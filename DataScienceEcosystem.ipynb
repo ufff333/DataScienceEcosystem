{
 "cells": [
  {
   "cell_type": "markdown",
   "id": "055d2ddc",
   "metadata": {},
   "source": [
    "# Data Science Tools and Ecosystem"
   ]
  },
  {
   "cell_type": "markdown",
   "id": "602948a8",
   "metadata": {},
   "source": [
    "# Data Science Tools and Ecosystem"
   ]
  },
  {
   "cell_type": "markdown",
   "id": "07b274fe",
   "metadata": {},
   "source": [
    "In this notebook, Data Science Tools and Ecosystem are summarized."
   ]
  },
  {
   "cell_type": "markdown",
   "id": "99178fc0",
   "metadata": {},
   "source": [
    "**Objectives:**\n",
    "- List popular languages that Data Scientists use\n",
    "- List commonly used libraries used by Data Scientists \n",
    "- List data science tools"
   ]
  },
  {
   "cell_type": "markdown",
   "id": "9f767bc5",
   "metadata": {},
   "source": [
    "**Objectives**\n",
    "- List popular languages that Data Scientists use\n",
    "- List commonly used libraries used by Data Scientists \n",
    "- List data science tools"
   ]
  },
  {
   "cell_type": "markdown",
   "id": "2bebd5a9",
   "metadata": {},
   "source": [
    "## Author\n",
    "Alberto"
   ]
  },
  {
   "cell_type": "markdown",
   "id": "b12c45e4",
   "metadata": {},
   "source": [
    "Some of the popular languages that Data Scientists use are:\n",
    "1. Pytho\n",
    "1. R\n",
    "1. Julia"
   ]
  },
  {
   "cell_type": "markdown",
   "id": "cbef8b4a",
   "metadata": {},
   "source": [
    "Some of the popular languages that Data Scientists use are:\n",
    "1. Pytho\n",
    "1. R\n",
    "1. Julia"
   ]
  },
  {
   "cell_type": "markdown",
   "id": "96806aca",
   "metadata": {},
   "source": [
    "Some of the commonly used libraries used by Data Scientists include:\n",
    "1. Pandas\n",
    "1. Numpy\n",
    "1. Scikit-Learn"
   ]
  },
  {
   "cell_type": "markdown",
   "id": "fce03f3c",
   "metadata": {},
   "source": [
    "Some of the commonly used libraries used by Data Scientists include:\n",
    "1. Pandas\n",
    "1. Numpy\n",
    "1. Scikit-Learn"
   ]
  },
  {
   "cell_type": "markdown",
   "id": "3e0f4feb",
   "metadata": {},
   "source": [
    "Data Science tools|\n",
    "---------------------------|\n",
    "RStudio|\n",
    "Visual Studio|\n",
    "Spyder|"
   ]
  },
  {
   "cell_type": "markdown",
   "id": "60a91016",
   "metadata": {},
   "source": [
    "Data Science tools|\n",
    "---------------------------|\n",
    "RStudio|\n",
    "Visual Studio|\n",
    "Spyder|"
   ]
  },
  {
   "cell_type": "markdown",
   "id": "8ae4666d",
   "metadata": {},
   "source": [
    "### Below are a few examples of evaluating arithmetic expressions in Python"
   ]
  },
  {
   "cell_type": "markdown",
   "id": "396d0686",
   "metadata": {},
   "source": [
    "### Below are a few examples of evaluating arithmetic expressions in Python"
   ]
  },
  {
   "cell_type": "code",
   "execution_count": 2,
   "id": "fd422f8c",
   "metadata": {},
   "outputs": [
    {
     "data": {
      "text/plain": [
       "17"
      ]
     },
     "execution_count": 2,
     "metadata": {},
     "output_type": "execute_result"
    }
   ],
   "source": [
    "# This a simple arithmetic expression to mutiply then add integers\n",
    "(3*4)+5"
   ]
  },
  {
   "cell_type": "code",
   "execution_count": 3,
   "id": "2906ec36",
   "metadata": {},
   "outputs": [
    {
     "data": {
      "text/plain": [
       "3.3333333333333335"
      ]
     },
     "execution_count": 3,
     "metadata": {},
     "output_type": "execute_result"
    }
   ],
   "source": [
    "# This will convert 200 minutes to hours by diving by 60\n",
    "200/60"
   ]
  }
 ],
 "metadata": {
  "kernelspec": {
   "display_name": "Python 3 (ipykernel)",
   "language": "python",
   "name": "python3"
  },
  "language_info": {
   "codemirror_mode": {
    "name": "ipython",
    "version": 3
   },
   "file_extension": ".py",
   "mimetype": "text/x-python",
   "name": "python",
   "nbconvert_exporter": "python",
   "pygments_lexer": "ipython3",
   "version": "3.11.4"
  }
 },
 "nbformat": 4,
 "nbformat_minor": 5
}
